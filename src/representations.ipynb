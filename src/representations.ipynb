{
 "cells": [
  {
   "cell_type": "markdown",
   "metadata": {},
   "source": [
    "# Imports"
   ]
  },
  {
   "cell_type": "code",
   "execution_count": 1,
   "metadata": {},
   "outputs": [],
   "source": [
    "import jax\n",
    "import jax.numpy as jnp \n",
    "from jax import vmap, grad, jit\n",
    "import optax\n",
    "from sample_trajectory import *\n",
    "from utils import *\n",
    "import numpy as np\n",
    "import matplotlib.pyplot as plt\n",
    "from jax.typing import ArrayLike\n",
    "from typing import Callable\n",
    "from tqdm import tqdm"
   ]
  },
  {
   "cell_type": "markdown",
   "metadata": {},
   "source": [
    "# Globals"
   ]
  },
  {
   "cell_type": "code",
   "execution_count": 69,
   "metadata": {},
   "outputs": [],
   "source": [
    "horizon = 100\n",
    "n_trajectories = 1000\n",
    "minibatch_size = 1000\n",
    "rep_dim = 16 \n",
    "tau_fixation = 0.01\n",
    "tau_saccade = 0.1\n",
    "n_actions = 3 "
   ]
  },
  {
   "cell_type": "markdown",
   "metadata": {},
   "source": [
    "# Sampling trajectories"
   ]
  },
  {
   "cell_type": "code",
   "execution_count": 48,
   "metadata": {},
   "outputs": [
    {
     "data": {
      "text/plain": [
       "((1000, 100), (1000, 100), (1000, 100))"
      ]
     },
     "execution_count": 48,
     "metadata": {},
     "output_type": "execute_result"
    }
   ],
   "source": [
    "# Generate Trajectories\n",
    "init_key = jax.random.PRNGKey(0)\n",
    "batch_keys = jax.random.split(init_key, n_trajectories)\n",
    "trajectories, goals = vmap(jit(lambda k: generate_trajectory(key=k, horizon=horizon)))(batch_keys)\n",
    "angles, velocities, times = trajectories\n",
    "angles.shape, velocities.shape, times.shape # batch_dim, horizon"
   ]
  },
  {
   "cell_type": "code",
   "execution_count": 49,
   "metadata": {},
   "outputs": [],
   "source": [
    "# Converting velocities into actions \n",
    "actions = (np.sign(velocities) - 3) / -2\n",
    "actions[velocities == 0.0] = 0\n",
    "actions = jnp.asarray(actions, dtype=int)"
   ]
  },
  {
   "cell_type": "code",
   "execution_count": 50,
   "metadata": {},
   "outputs": [
    {
     "data": {
      "text/plain": [
       "((1000, 100, 97), (1000, 97))"
      ]
     },
     "execution_count": 50,
     "metadata": {},
     "output_type": "execute_result"
    }
   ],
   "source": [
    "# Converting angles to one hot representations and adding an offset\n",
    "one_hot_angles = jnp.pad(vmap(to_1_hot)(trajectories[0]), ((0,0), (0,0), (0,1)), mode='constant', constant_values=1.0) \n",
    "one_hot_goals = jnp.pad(vmap(to_1_hot)(goals), ((0,0), (0,1)), mode='constant', constant_values=1.0)\n",
    "one_hot_angles.shape, one_hot_goals.shape"
   ]
  },
  {
   "cell_type": "code",
   "execution_count": 62,
   "metadata": {},
   "outputs": [
    {
     "data": {
      "text/plain": [
       "[((300000, 97), (300000,)),\n",
       " ((300000, 97), (300000,)),\n",
       " ((300000, 97), (300000,))]"
      ]
     },
     "execution_count": 62,
     "metadata": {},
     "output_type": "execute_result"
    }
   ],
   "source": [
    "# Sample like and dislike pairs \n",
    "n_samples = 300000\n",
    "sample_keys = jax.random.split(batch_keys[-1], n_samples)\n",
    "raw_state_triplets, index_triplets = vmap(\n",
    "    sample_trajectory, in_axes=(0, None, None, None, None))(sample_keys, one_hot_angles, actions, tau_saccade, tau_fixation)\n",
    "[(x.shape, y.shape) for x, y in zip(raw_state_triplets, index_triplets)]"
   ]
  },
  {
   "cell_type": "code",
   "execution_count": 63,
   "metadata": {},
   "outputs": [
    {
     "data": {
      "text/plain": [
       "[(300000, 291), (300000, 97), (300000, 97)]"
      ]
     },
     "execution_count": 63,
     "metadata": {},
     "output_type": "execute_result"
    }
   ],
   "source": [
    "# Get actions for each anchor state\n",
    "anchor_batch_idxs = index_triplets[0] // horizon\n",
    "anchor_idxs = index_triplets[0] % horizon\n",
    "anchor_actions = actions[anchor_batch_idxs, anchor_idxs]\n",
    "# Initialize container variable - include new axis for different actions\n",
    "extended_anchor_states = np.zeros((raw_state_triplets[0].shape[0], n_actions, raw_state_triplets[0].shape[1]))\n",
    "# Populate with correct anchor state at selected action\n",
    "extended_anchor_states[np.arange(n_samples), anchor_actions] = raw_state_triplets[0]\n",
    "# Flatten over actions \n",
    "extended_anchor_states = jnp.reshape(extended_anchor_states, (n_samples, -1))\n",
    "state_triplets = raw_state_triplets.copy()\n",
    "state_triplets[0] = extended_anchor_states\n",
    "[x.shape for x in state_triplets]\n"
   ]
  },
  {
   "cell_type": "code",
   "execution_count": 70,
   "metadata": {},
   "outputs": [
    {
     "data": {
      "text/plain": [
       "[(240, 1000, 291), (240, 1000, 97), (240, 1000, 97)]"
      ]
     },
     "execution_count": 70,
     "metadata": {},
     "output_type": "execute_result"
    }
   ],
   "source": [
    "# Splitting data into train / val / test\n",
    "train_ratio = 0.8\n",
    "train_index = int(n_samples * train_ratio)\n",
    "\n",
    "train_set = [x[:train_index] for x in state_triplets]\n",
    "val_set = [x[train_index:] for x in state_triplets]\n",
    "\n",
    "# Collate data into minibatches\n",
    "batched_train = [jnp.reshape(x, (x.shape[0] // minibatch_size, minibatch_size, -1)) for x in train_set]\n",
    "[x.shape for x in batched_train]"
   ]
  },
  {
   "cell_type": "markdown",
   "metadata": {},
   "source": [
    "# Optimization"
   ]
  },
  {
   "cell_type": "code",
   "execution_count": 71,
   "metadata": {},
   "outputs": [
    {
     "name": "stdout",
     "output_type": "stream",
     "text": [
      "291.0 97.0\n"
     ]
    }
   ],
   "source": [
    "var_keys = jax.random.split(sample_keys[-1], 2)\n",
    "\n",
    "# (rep_dim, input_dim x n_actions)\n",
    "phi = jax.random.normal(key=var_keys[0], shape=(rep_dim, train_set[0].shape[-1])) \n",
    "# (rep dim, input_dim)\n",
    "psi = jax.random.normal(key=var_keys[1], shape=(rep_dim, train_set[1].shape[-1]))\n",
    "\n",
    "# Column normalize  \n",
    "phi_norms = jnp.linalg.norm(phi, axis=0, keepdims=True)\n",
    "psi_norms = jnp.linalg.norm(psi, axis=0, keepdims=True)\n",
    "phi /= phi_norms \n",
    "psi /= psi_norms \n",
    "print(jnp.linalg.norm(phi, axis=0).sum(), jnp.linalg.norm(psi, axis=0).sum())\n",
    "\n",
    "params = {'phi': phi, 'psi': psi}\n",
    "\n",
    "# Creating the optimizer \n",
    "lr = 0.0001\n",
    "optimizer = optax.adam(learning_rate=lr)\n",
    "opt_state = optimizer.init(params)\n"
   ]
  },
  {
   "cell_type": "code",
   "execution_count": 72,
   "metadata": {},
   "outputs": [],
   "source": [
    "# Training step \n",
    "@jit\n",
    "def train_step(params: optax.Params, opt_state: Tuple , batch: List[ArrayLike]) -> Tuple[optax.Params, Tuple, float]:\n",
    "    \"\"\"_summary_\n",
    "\n",
    "    Args:\n",
    "        params (optax.Params): Parameters to optimize\n",
    "        opt_state (Tuple): Current optimizer state \n",
    "        batch (List[ArrayLike]): (Anchor states, like_states, dislike_states)\n",
    "        loss_fn (Callable): Loss function with call signature f(params, *batch)\n",
    "\n",
    "    Returns:\n",
    "        Tuple[optax.Params, Tuple, float]: new params, opt_state, loss over minibatch\n",
    "    \"\"\"\n",
    "    loss, grads = jax.value_and_grad(contrastive_loss)(params, *batch)\n",
    "    updates, opt_state = optimizer.update(grads, opt_state, params)\n",
    "    params = optax.apply_updates(params, updates)\n",
    "    return params, opt_state, loss\n",
    "    "
   ]
  },
  {
   "cell_type": "code",
   "execution_count": 73,
   "metadata": {},
   "outputs": [
    {
     "name": "stderr",
     "output_type": "stream",
     "text": [
      "Epochs:  44%|████▍     | 883/2000 [05:22<06:47,  2.74it/s, loss=1.1186024, val_loss=1.1271741]\n"
     ]
    }
   ],
   "source": [
    "n_epochs = 1000\n",
    "tol = 1e-6\n",
    "current_loss = float('inf')\n",
    "loss_history = []\n",
    "val_loss_history = []\n",
    "param_history = []\n",
    "n_batches = batched_train[0].shape[0]\n",
    "prog_bar = tqdm(range(n_epochs), desc=\"Epochs\")\n",
    "for epoch in prog_bar:\n",
    "    for i in range(n_batches):\n",
    "        minibatch = [x[i] for x in batched_train]\n",
    "        params, opt_state, loss = train_step(params, opt_state, minibatch)\n",
    "    \n",
    "    val_loss_history.append(contrastive_loss(params, *val_set))\n",
    "    prog_bar.set_postfix(loss=loss, val_loss=val_loss_history[epoch])\n",
    "    \n",
    "    loss_history.append(loss)\n",
    "    param_history.append(params)\n",
    "    if jnp.abs(loss - current_loss) < tol: break\n",
    "    current_loss = loss"
   ]
  },
  {
   "cell_type": "code",
   "execution_count": 74,
   "metadata": {},
   "outputs": [
    {
     "data": {
      "image/png": "[encoded data removed]",
      "text/plain": [
       "<Figure size 640x480 with 1 Axes>"
      ]
     },
     "metadata": {},
     "output_type": "display_data"
    }
   ],
   "source": [
    "plt.plot(loss_history, label='Training Loss')\n",
    "plt.plot(val_loss_history, label='Validation Loss')\n",
    "\n",
    "plt.xlabel('Epochs')\n",
    "plt.ylabel('Loss')\n",
    "plt.title(f'$\\lambda$ = {lr}, minibatch_size = {minibatch_size}, n_samples = {n_samples}')\n",
    "plt.legend();\n",
    "plt.savefig(f\"viz/loss_plot_{lr}_{minibatch_size}_{n_samples}.png\", format='png', dpi='figure')"
   ]
  },
  {
   "cell_type": "markdown",
   "metadata": {},
   "source": [
    "# Visualizing Representations"
   ]
  },
  {
   "cell_type": "code",
   "execution_count": 88,
   "metadata": {},
   "outputs": [
    {
     "data": {
      "text/plain": [
       "((16, 97), (16, 97), (16, 97), (16, 97))"
      ]
     },
     "execution_count": 88,
     "metadata": {},
     "output_type": "execute_result"
    }
   ],
   "source": [
    "fixate_phi, left_phi, right_phi = jnp.split(params['phi'], n_actions, axis=1)\n",
    "psi = params['psi']\n",
    "fixate_phi.shape, left_phi.shape, right_phi.shape, psi.shape"
   ]
  },
  {
   "cell_type": "code",
   "execution_count": 107,
   "metadata": {},
   "outputs": [
    {
     "data": {
      "image/png": "[encoded data removed]",
      "text/plain": [
       "<Figure size 1200x400 with 4 Axes>"
      ]
     },
     "metadata": {},
     "output_type": "display_data"
    }
   ],
   "source": [
    "fig, axs = plt.subplots(2, 2, figsize=(12,4), tight_layout=True)\n",
    "axs[0,0].matshow(left_phi, cmap='RdBu')\n",
    "axs[0,0].set_title('Left Saccade $\\phi$')\n",
    "axs[0,0].set_axis_off()\n",
    "axs[0,1].matshow(right_phi, cmap='RdBu')\n",
    "axs[0,1].set_title('Right Saccade $\\phi$')\n",
    "axs[0,1].set_axis_off()\n",
    "axs[1,0].matshow(fixate_phi, cmap='RdBu')\n",
    "axs[1,0].set_title('Fixation $\\phi$')\n",
    "axs[1,0].set_axis_off()\n",
    "axs[1,1].matshow(psi, cmap='RdBu')\n",
    "axs[1,1].set_title('$\\psi$')\n",
    "axs[1,1].set_axis_off()\n",
    "plt.savefig('viz/representations.png', format='png', dpi='figure')"
   ]
  },
  {
   "cell_type": "code",
   "execution_count": 84,
   "metadata": {},
   "outputs": [
    {
     "name": "stdout",
     "output_type": "stream",
     "text": [
      "\u001b[0;31mSignature:\u001b[0m \u001b[0mnp\u001b[0m\u001b[0;34m.\u001b[0m\u001b[0mrepeat\u001b[0m\u001b[0;34m(\u001b[0m\u001b[0ma\u001b[0m\u001b[0;34m,\u001b[0m \u001b[0mrepeats\u001b[0m\u001b[0;34m,\u001b[0m \u001b[0maxis\u001b[0m\u001b[0;34m=\u001b[0m\u001b[0;32mNone\u001b[0m\u001b[0;34m)\u001b[0m\u001b[0;34m\u001b[0m\u001b[0;34m\u001b[0m\u001b[0m\n",
      "\u001b[0;31mDocstring:\u001b[0m\n",
      "Repeat elements of an array.\n",
      "\n",
      "Parameters\n",
      "----------\n",
      "a : array_like\n",
      "    Input array.\n",
      "repeats : int or array of ints\n",
      "    The number of repetitions for each element.  `repeats` is broadcasted\n",
      "    to fit the shape of the given axis.\n",
      "axis : int, optional\n",
      "    The axis along which to repeat values.  By default, use the\n",
      "    flattened input array, and return a flat output array.\n",
      "\n",
      "Returns\n",
      "-------\n",
      "repeated_array : ndarray\n",
      "    Output array which has the same shape as `a`, except along\n",
      "    the given axis.\n",
      "\n",
      "See Also\n",
      "--------\n",
      "tile : Tile an array.\n",
      "unique : Find the unique elements of an array.\n",
      "\n",
      "Examples\n",
      "--------\n",
      ">>> np.repeat(3, 4)\n",
      "array([3, 3, 3, 3])\n",
      ">>> x = np.array([[1,2],[3,4]])\n",
      ">>> np.repeat(x, 2)\n",
      "array([1, 1, 2, 2, 3, 3, 4, 4])\n",
      ">>> np.repeat(x, 3, axis=1)\n",
      "array([[1, 1, 1, 2, 2, 2],\n",
      "       [3, 3, 3, 4, 4, 4]])\n",
      ">>> np.repeat(x, [1, 2], axis=0)\n",
      "array([[1, 2],\n",
      "       [3, 4],\n",
      "       [3, 4]])\n",
      "\u001b[0;31mFile:\u001b[0m      ~/mambaforge3/envs/jax_0.4/lib/python3.9/site-packages/numpy/core/fromnumeric.py\n",
      "\u001b[0;31mType:\u001b[0m      function"
     ]
    }
   ],
   "source": [
    "?np.repeat"
   ]
  },
  {
   "cell_type": "code",
   "execution_count": null,
   "metadata": {},
   "outputs": [],
   "source": []
  }
 ],
 "metadata": {
  "kernelspec": {
   "display_name": "fly_sr",
   "language": "python",
   "name": "python3"
  },
  "language_info": {
   "codemirror_mode": {
    "name": "ipython",
    "version": 3
   },
   "file_extension": ".py",
   "mimetype": "text/x-python",
   "name": "python",
   "nbconvert_exporter": "python",
   "pygments_lexer": "ipython3",
   "version": "3.9.19"
  }
 },
 "nbformat": 4,
 "nbformat_minor": 2
}
